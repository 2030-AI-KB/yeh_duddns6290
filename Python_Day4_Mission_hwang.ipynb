{
  "cells": [
    {
      "cell_type": "code",
      "execution_count": null,
      "metadata": {
        "colab": {
          "base_uri": "https://localhost:8080/",
          "height": 36
        },
        "id": "d18yMxpsozBR",
        "outputId": "a8aa63e1-8fab-49af-d478-142e7fc559ae"
      },
      "outputs": [
        {
          "name": "stdout",
          "output_type": "stream",
          "text": [
            "20\n"
          ]
        }
      ],
      "source": [
        "print(10+10)"
      ]
    },
    {
      "cell_type": "code",
      "execution_count": null,
      "metadata": {
        "colab": {
          "base_uri": "https://localhost:8080/",
          "height": 36
        },
        "id": "nhs8l7zhpHuS",
        "outputId": "0a258dcf-74b3-4cc0-eace-b58149d650a1"
      },
      "outputs": [
        {
          "name": "stdout",
          "output_type": "stream",
          "text": [
            "hello world\n"
          ]
        }
      ],
      "source": [
        "print('hello world')"
      ]
    },
    {
      "attachments": {},
      "cell_type": "markdown",
      "metadata": {
        "id": "LpNmx26hsyTc"
      },
      "source": []
    },
    {
      "cell_type": "code",
      "execution_count": null,
      "metadata": {
        "colab": {
          "base_uri": "https://localhost:8080/",
          "height": 55
        },
        "id": "HC_MX8ZLsONl",
        "outputId": "8e752947-ea22-443c-f401-937e5151330b"
      },
      "outputs": [
        {
          "name": "stdout",
          "output_type": "stream",
          "text": [
            "값을 입력하세요 :10\n"
          ]
        },
        {
          "data": {
            "text/plain": [
              "str"
            ]
          },
          "execution_count": 6,
          "metadata": {
            "tags": []
          },
          "output_type": "execute_result"
        }
      ],
      "source": [
        "a =input('값을 입력하세요 :')\n",
        "type(a)"
      ]
    },
    {
      "cell_type": "code",
      "execution_count": null,
      "metadata": {
        "colab": {
          "base_uri": "https://localhost:8080/",
          "height": 35
        },
        "id": "5aqocX-Dtalg",
        "outputId": "6d28778b-aefc-4df6-9415-90bfcd8a4e09"
      },
      "outputs": [
        {
          "name": "stdout",
          "output_type": "stream",
          "text": [
            "['1', '2']\n"
          ]
        }
      ],
      "source": [
        "a = ['1', '2','3']\n",
        "print(a[0:2])\n",
        "\n"
      ]
    },
    {
      "cell_type": "code",
      "execution_count": null,
      "metadata": {
        "colab": {
          "base_uri": "https://localhost:8080/",
          "height": 53
        },
        "id": "koOMF-bBu1r2",
        "outputId": "95c7371f-73ad-4dbe-aa55-356ff3b9cb4f"
      },
      "outputs": [
        {
          "name": "stdout",
          "output_type": "stream",
          "text": [
            "20\n",
            "10\n"
          ]
        }
      ],
      "source": [
        "a = 10\n",
        "b =20\n",
        "temp = a\n",
        "a = b\n",
        "b = temp\n",
        "\n",
        "print(a)\n",
        "print(b)\n",
        "\n"
      ]
    },
    {
      "cell_type": "code",
      "execution_count": null,
      "metadata": {
        "colab": {
          "base_uri": "https://localhost:8080/",
          "height": 70
        },
        "id": "4NqR5Q3n6SDb",
        "outputId": "bcfca663-6a26-45d3-bf40-0a7e318052f3"
      },
      "outputs": [
        {
          "name": "stdout",
          "output_type": "stream",
          "text": [
            "처음 수를 입력하세요:1\n",
            "기호를 입력하세요:+\n",
            "다음 수를 입력하세요:1\n"
          ]
        }
      ],
      "source": [
        "num1 = input('처음 수를 입력하세요:' )\n",
        "opt = input('기호를 입력하세요:')\n",
        "num2 = input('다음 수를 입력하세요:')\n",
        "\n",
        "if opt == '+':\n",
        "  res = int(num1) + int(num2)\n",
        "elif opt == '-':\n",
        "  res = int(num1) - int(num2)\n",
        "elif opt == '*':\n",
        "  res = int(num1) * int(num2)\n",
        "elif opt == '/':\n",
        "  res = int(num1) / int(num2)\n",
        "else:\n",
        "  print('잘못입력하셨습니다.')\n",
        "\n",
        "  print(res)  \n",
        "\n"
      ]
    },
    {
      "cell_type": "code",
      "execution_count": null,
      "metadata": {
        "colab": {
          "base_uri": "https://localhost:8080/",
          "height": 52
        },
        "id": "ewQSIvNz5rAN",
        "outputId": "cd65fe5c-826c-482d-f9e1-2a0dd3de4e01"
      },
      "outputs": [
        {
          "name": "stdout",
          "output_type": "stream",
          "text": [
            "namecard\n",
            "김홍근\n"
          ]
        }
      ],
      "source": [
        "item = input()\n",
        "pocket ={'cellphone':'010-6886-3882.', 'namecard':'김홍근','money':'10000', 'creditcard':'visa'}\n",
        "if item in pocket:\n",
        "  if 'cellphone' == item:\n",
        "      print(pocket.get(item))\n",
        "  elif 'namecard' == item:\n",
        "      print(pocket[item])\n",
        "  elif 'money' == item:\n",
        "     print(pocket.get(item))\n",
        "     if int(pocket[item]) > 20000 or 'creditcard' in pocket:\n",
        "        print('돈이 많으시군요.'+ '맛난거 사주세요')\n",
        "     else:\n",
        "        print('금액이 적습니다.')\n",
        "else:\n",
        "    print('해당하는 아이템이 없습니다.')\n"
      ]
    },
    {
      "cell_type": "code",
      "execution_count": null,
      "metadata": {
        "colab": {
          "base_uri": "https://localhost:8080/",
          "height": 233
        },
        "id": "srr_yFgorDP7",
        "outputId": "179ff3fc-f8ee-4eca-9c5d-84ddd0fbecfa"
      },
      "outputs": [
        {
          "name": "stdout",
          "output_type": "stream",
          "text": [
            "교과목을 입력하세요 : 국어\n",
            "score : 50\n",
            "score : 65\n",
            "score : 43\n",
            "교과목을 입력하세요 : 영어\n",
            "score : 55\n",
            "score : 88\n",
            "score : 99\n",
            "합산할 과목을 입력해주세요 : 영어\n",
            "영어 과목의 합계는 242 입니다.\n",
            "영어 과목의 평균점수는 80.667 입니다.\n",
            "{'국어': [50, 65, 43], '영어': [55, 88, 99]}\n"
          ]
        }
      ],
      "source": [
        "subject = {}\n",
        "result = 0\n",
        "avr = 0\n",
        "for i in range(1,2):\n",
        "  score = []\n",
        "  name = input('교과목을 입력하세요 : ') \n",
        "  for j in range(3):\n",
        "    x = int(input('score : '))\n",
        "    score.append(x) \n",
        "    subject[name] = score\n",
        "\n",
        "sub = input('합산할 과목을 입력해주세요 : ')\n",
        "if sub in subject:\n",
        "  res = subject[sub]\n",
        "  for i in range(len(res)):\n",
        "     result +=res[i]\n",
        "\n",
        "  print(sub,'과목의 합계는', result,'입니다.')\n",
        "  avg = result / len(res)\n",
        "  print(sub,'과목의 평균점수는', round(avg,3),'입니다.')\n",
        "else:\n",
        "  print('합산할 과목이 없습니다.')\n",
        "\n",
        "print(subject)\n",
        "\n"
      ]
    },
    {
      "cell_type": "code",
      "execution_count": null,
      "metadata": {
        "colab": {
          "base_uri": "https://localhost:8080/",
          "height": 35
        },
        "id": "jsugwkq8gxTV",
        "outputId": "309a37ff-903d-436e-b93e-22215e4f98e6"
      },
      "outputs": [
        {
          "name": "stdout",
          "output_type": "stream",
          "text": [
            "3\n"
          ]
        }
      ],
      "source": [
        "word = 'banana'\n",
        "count = 0\n",
        "for a in word:\n",
        "  if a == 'a':\n",
        "    count = count +1\n",
        "\n",
        "print(count)\n",
        "\n"
      ]
    },
    {
      "cell_type": "code",
      "execution_count": null,
      "metadata": {
        "colab": {
          "base_uri": "https://localhost:8080/",
          "height": 35
        },
        "id": "w8wUd9XYiJK1",
        "outputId": "0a4a73e1-e0f7-433e-8423-bd1fb09ab136"
      },
      "outputs": [
        {
          "name": "stdout",
          "output_type": "stream",
          "text": [
            "8\n"
          ]
        }
      ],
      "source": [
        "#Missoin_1.  구구단프로그램을 작성해주세요. 단을 입력하면 입력받은 단까지 모두 출력해주세요.\n",
        "input_dan = int(input(\"단 입력: \"))\n",
        "dan=2\n",
        "n=1\n",
        "while dan < input_dan+1 :\n",
        "    print(dan,\"단\")\n",
        "    while n<10 :\n",
        "        print(dan,\"*\",n,\"=\",dan*n)\n",
        "        n+=1    \n",
        "    dan +=1\n",
        "    n=1"
      ]
    },
    {
      "cell_type": "code",
      "execution_count": null,
      "metadata": {
        "id": "CXEM8Q6lB933"
      },
      "outputs": [],
      "source": [
        "#Missoin_2.  20개의 정수를 입력 받아서 짝수와 홀수를 구분하여 저장해주세요. \n",
        "#           저장된 수의 총합이 얼마인지와 짝수의 합이 큰지 홀수의 합이 큰지를 알려주는 코드를 작성해주세요 \n",
        "sum_odd = 0\n",
        "sum_even = 0\n",
        "sum_all=0\n",
        "print(\"사이의 공백을 두고 20개의 정수를 입력해주세요\")\n",
        "num = list(map(int,input().split()))\n",
        "i=0\n",
        "while i< 20 :\n",
        "    if num[i]%2==0 :\n",
        "        sum_even += num[i]\n",
        "        i += 1\n",
        "    else:\n",
        "        sum_odd += num[i] \n",
        "        i += 1\n",
        "sum_all= sum_odd + sum_even\n",
        "print(\"총합은 :\",sum_all)\n",
        "if sum_even > sum_odd :\n",
        "    print(\"짝수의 합이 더 큽니다.\")\n",
        "elif sum_even < sum_odd : \n",
        "    print(\"홀수의 합이 더 큽니다.\")\n",
        "else:\n",
        "    print(\"두수의 합이 같습니다.\")"
      ]
    },
    {
      "cell_type": "code",
      "execution_count": null,
      "metadata": {
        "id": "V40v5PnzCFS1"
      },
      "outputs": [],
      "source": [
        "#Mission_3. 오늘의 기분을 입력받아서 입력한 기분 값이 10를 넘으면 그 기분에 맞는 내용을 알려주는 코드를 작성해주세요.\n",
        "a = int(input(\"오늘의 기분을 숫자로 입력해주세요(1-20):\"))\n",
        "if a>15:\n",
        "    print(\"좋아요:-)\")\n",
        "elif a>10:\n",
        "    print(\"나쁘진 않아요~\")\n",
        "else :\n",
        "    print(\"오늘은 좀 별루에요\")"
      ]
    },
    {
      "cell_type": "code",
      "execution_count": null,
      "metadata": {
        "id": "9jH4mjmmCGk9"
      },
      "outputs": [],
      "source": [
        "#Mission_4. 아래의 코드를 보고 입력받은 5개의 성적을 기준을 작성하여 코드를 완성해주세요..\n",
        "#           단, 아래의 코드는 변경이 불가능합니다.\n",
        "scores = []  \n",
        "\n",
        "for _ in range(5):\n",
        "    score = int(input(\"성적을 입력하세요: \"))\n",
        "    scores.append(score)\n",
        "\n",
        "mx_score = max(scores)  \n",
        "min_score = min(scores)\n",
        "\n",
        "mx_index = scores.index(mx_score) + 1\n",
        "min_index = scores.index(min_score) + 1\n",
        "print( \"입력한 성적중 \"+ str(mx_index) + \"번째 점수가 가장 높은 \"+ str(mx_score) + \"입니다.\")\n",
        "print( \"입력한 성적중 \"+ str(min_index) + \"번째 점수가 가장 낮은 \"+ str(min_score) + \"입니다.\")\n",
        "# 입력한 성적중 #번째 점수가 가장 높은 #점입니다."
      ]
    },
    {
      "cell_type": "code",
      "execution_count": null,
      "metadata": {
        "id": "ZnLJeuArCKV3"
      },
      "outputs": [],
      "source": [
        "#Mission_5. 아래의 Song의 내용을 분석할 수 있는 코드를 작성하여 정략적 수치를 통해 의견을 작성해주세요..\n",
        "\n",
        "# [의견 작성]\n",
        "#\n",
        "\n",
        "\n",
        "song = \"\"\"Fuck you and your mom and your sister and your job and your broke ass car and that shit you call art\n",
        "       fuck you And your friends that i'll never see again everybody but your dog you can all FUCK OFF i swear i meant to mean the best when it ended even try to bite my tongue when you start shit\n",
        "       now you're texting all my friends asking questions hey never even liked you in the first place\"\"\"\n"
      ]
    },
    {
      "cell_type": "code",
      "execution_count": null,
      "metadata": {
        "id": "SXEYRt6yCNjN"
      },
      "outputs": [],
      "source": [
        "#Mission_6. 이름과 점수를 입력하면 학점을 반환하여 저장하는 코드를 작성해주세요.\n",
        "name = input(\"이름: \")\n",
        "score = int(input(\"점수: \"))\n",
        "if score >= 90 :\n",
        "    score=\"A학점\"\n",
        "elif score >= 80 :\n",
        "    score=\"B학점\"\n",
        "elif score >= 70:\n",
        "    score=\"C학점\"\n",
        "elif score >= 60 :\n",
        "    score=\"D학점\"\n",
        "else :\n",
        "    score=\"F학점\"\n",
        "save_score=(name,score)\n",
        "print(save_score[0],\"학생은\",save_score[1],\"입니다.\")"
      ]
    },
    {
      "cell_type": "code",
      "execution_count": null,
      "metadata": {
        "id": "vsnGlBU2CQKL"
      },
      "outputs": [],
      "source": [
        "#Mission_7. 피보나치수열은 첫째 및 둘째 항이 1이며 그 뒤의 모든 항은 바로 앞 두 항의 합인 수열이다.\n",
        "#           수열을 코드로 작성해주세요.\n",
        "fibo = []\n",
        "start_n = [1, 1]\n",
        "i = 0\n",
        "plus = 0\n",
        "fibo.append(start_n)\n",
        "\n",
        "for _ in range(10):\n",
        "    plus = start_n[i] + start_n[i+1]\n",
        "    fibo.append(plus)\n",
        "    i += 1\n",
        "\n",
        "print(fibo)"
      ]
    },
    {
      "cell_type": "code",
      "execution_count": null,
      "metadata": {
        "id": "wQMqbee0CTRV"
      },
      "outputs": [],
      "source": [
        "#Missoin_8. 아래의 내용을 보고 결과를 출력하는 코드를 작성해주세요.\n",
        "'''10보다 작은 자연수 중에서 3 또는 5의 배수는 3, 5, 6, 9 이고, 이것을 모두 더하면 23입니다.\n",
        "   1000보다 작은 자연수 중에서 3 또는 5의 배수를 모두 더하면 얼마일까요?'''\n",
        "i=1\n",
        "i_sum =0\n",
        "while i <1000 :\n",
        "    if i%3==0 or i%5==0:\n",
        "        print(i)\n",
        "        i_sum += i\n",
        "    i += 1    \n",
        "print(\"3 또는 5의 배수를 모두 더한 값은?\",i_sum,\"입니다.\")"
      ]
    },
    {
      "cell_type": "code",
      "execution_count": null,
      "metadata": {
        "id": "-zRg-hnmCVBD"
      },
      "outputs": [],
      "source": [
        "#Mission_9. 가위,바위,보 게임을 만들어주세요.. (이긴 횟수를 알려주세요.)\n",
        "import random\n",
        "game=[\"가위\", \"바위\", \"보\"]\n",
        "win_count=0\n",
        "while True:\n",
        "    computer_choice=random.choice(game)\n",
        "    user_choice=input(\"게임을 끝내고 싶으시면 end를 적어주세요.\\n가위, 바위, 보 중 하나를 입력해주세요. \")\n",
        "    \n",
        "    if user_choice == \"end\":\n",
        "        print(\"\\n이긴 횟수: \",win_count)\n",
        "        break\n",
        "        \n",
        "    print(\"\\n사용자의 선택은?!\",user_choice)\n",
        "    print(\"컴퓨터의 선택은?!\",computer_choice)  \n",
        "    \n",
        "    if user_choice == \"가위\":\n",
        "        if computer_choice ==\"보\" :\n",
        "            print(\"\\n이겼습니다!\")\n",
        "            win_count += 1\n",
        "        elif computer_choice ==\"바위\" :\n",
        "            print(\"\\n아쉽게도 졌습니다ㅠ,ㅠ\")\n",
        "        else:\n",
        "            print(\"\\n무승부입니다!\")\n",
        "            \n",
        "    if user_choice == \"바위\" :\n",
        "        if computer_choice ==\"가위\" :\n",
        "            print(\"\\n이겼습니다!\")\n",
        "            win_count += 1\n",
        "        elif computer_choice ==\"보\" :\n",
        "            print(\"\\n아쉽게도 졌습니다ㅠ,ㅠ\")\n",
        "        else:\n",
        "            print(\"\\n무승부입니다!\")\n",
        "            \n",
        "    if user_choice == \"보\" :\n",
        "        if computer_choice ==\"바위\" :\n",
        "            print(\"\\n이겼습니다!\")\n",
        "            win_count += 1\n",
        "        elif computer_choice ==\"가위\" :\n",
        "            print(\"\\n아쉽게도 졌습니다ㅠ,ㅠ\")\n",
        "        else:\n",
        "            print(\"\\n무승부입니다!\")"
      ]
    },
    {
      "cell_type": "code",
      "execution_count": null,
      "metadata": {
        "id": "suxKQum6CXXz"
      },
      "outputs": [],
      "source": [
        "#Mission_10. 커피 자판기의 계산프로그램을 만들려고 합니다.(최대 15잔을 뽑을 수 있어요. 잔당 200원)\n",
        "#            돈을 값을 입력 받으면 커피를 뽑을 수 있는 잔수와 잔액을 알려주시면 됩니다.\n",
        "money=int(input(\"금액을 입력해주세요: \"))\n",
        "coffee=200\n",
        "if money < 3100 :\n",
        "    count=money//coffee\n",
        "    change=money%coffee\n",
        "    print(\"뽑을수 있는 잔수 :\",count,\"잔액:\",change)\n",
        "else :\n",
        "    count=3000//coffee\n",
        "    change = money - 3000\n",
        "    print(\"뽑을수 있는 잔수 :\",count,\"잔액:\",change) \n"
      ]
    }
  ],
  "metadata": {
    "colab": {
      "provenance": []
    },
    "kernelspec": {
      "display_name": "Python 3",
      "name": "python3"
    }
  },
  "nbformat": 4,
  "nbformat_minor": 0
}
